{
 "cells": [
  {
   "cell_type": "markdown",
   "metadata": {},
   "source": [
    "### DL_Practice_Assignment_1"
   ]
  },
  {
   "cell_type": "code",
   "execution_count": 1,
   "metadata": {},
   "outputs": [],
   "source": [
    "import numpy as np\n",
    "from tensorflow.keras.models import Sequential\n",
    "from tensorflow.keras.layers import Dense\n",
    "from sklearn.model_selection import train_test_split"
   ]
  },
  {
   "cell_type": "markdown",
   "metadata": {},
   "source": [
    "### Generate sequences of odd numbers"
   ]
  },
  {
   "cell_type": "code",
   "execution_count": 2,
   "metadata": {},
   "outputs": [],
   "source": [
    "def generate_sequences(n_samples, sequence_length):\n",
    "    X = []\n",
    "    y = []\n",
    "    for _ in range(n_samples):\n",
    "        start = np.random.randint(0, 100)\n",
    "        sequence = np.arange(start, start + sequence_length * 2, 2)\n",
    "        X.append(sequence[:-1])\n",
    "        y.append(sequence[-1])\n",
    "    return np.array(X), np.array(y)"
   ]
  },
  {
   "cell_type": "markdown",
   "metadata": {},
   "source": [
    "### Generate dataset"
   ]
  },
  {
   "cell_type": "code",
   "execution_count": 3,
   "metadata": {},
   "outputs": [],
   "source": [
    "sequence_length = 5\n",
    "X, y = generate_sequences(10000, sequence_length)\n",
    "\n",
    "# Normalize the data\n",
    "X = X / 100.0\n",
    "y = y / 100.0"
   ]
  },
  {
   "cell_type": "code",
   "execution_count": 4,
   "metadata": {},
   "outputs": [],
   "source": [
    "# Split into training and testing sets\n",
    "X_train, X_test, y_train, y_test = train_test_split(X, y, test_size=0.2, random_state=42)"
   ]
  },
  {
   "cell_type": "markdown",
   "metadata": {},
   "source": [
    "### Define the model"
   ]
  },
  {
   "cell_type": "code",
   "execution_count": 5,
   "metadata": {},
   "outputs": [],
   "source": [
    "model = Sequential([\n",
    "    Dense(10, activation='relu', input_shape=(sequence_length-1,)),\n",
    "    Dense(10, activation='relu'),\n",
    "    Dense(1)\n",
    "])"
   ]
  },
  {
   "cell_type": "code",
   "execution_count": 6,
   "metadata": {},
   "outputs": [
    {
     "name": "stdout",
     "output_type": "stream",
     "text": [
      "Epoch 1/20\n",
      "200/200 [==============================] - 2s 5ms/step - loss: 0.0637 - val_loss: 3.3310e-05\n",
      "Epoch 2/20\n",
      "200/200 [==============================] - 1s 3ms/step - loss: 2.3870e-05 - val_loss: 2.2748e-05\n",
      "Epoch 3/20\n",
      "200/200 [==============================] - 1s 4ms/step - loss: 2.0149e-05 - val_loss: 1.9178e-05\n",
      "Epoch 4/20\n",
      "200/200 [==============================] - 1s 3ms/step - loss: 1.8691e-05 - val_loss: 1.7533e-05\n",
      "Epoch 5/20\n",
      "200/200 [==============================] - 1s 3ms/step - loss: 1.6336e-05 - val_loss: 1.4784e-05\n",
      "Epoch 6/20\n",
      "200/200 [==============================] - 1s 4ms/step - loss: 1.3950e-05 - val_loss: 1.2377e-05\n",
      "Epoch 7/20\n",
      "200/200 [==============================] - 1s 4ms/step - loss: 1.0798e-05 - val_loss: 8.0055e-06\n",
      "Epoch 8/20\n",
      "200/200 [==============================] - 1s 4ms/step - loss: 5.8950e-06 - val_loss: 3.3323e-06\n",
      "Epoch 9/20\n",
      "200/200 [==============================] - 3s 13ms/step - loss: 1.7679e-06 - val_loss: 6.4657e-07\n",
      "Epoch 10/20\n",
      "200/200 [==============================] - 3s 13ms/step - loss: 3.0583e-07 - val_loss: 1.7833e-07\n",
      "Epoch 11/20\n",
      "200/200 [==============================] - 3s 14ms/step - loss: 5.8238e-08 - val_loss: 2.3454e-08\n",
      "Epoch 12/20\n",
      "200/200 [==============================] - 1s 5ms/step - loss: 1.5428e-08 - val_loss: 7.3287e-09\n",
      "Epoch 13/20\n",
      "200/200 [==============================] - 1s 5ms/step - loss: 4.9736e-09 - val_loss: 3.7561e-09\n",
      "Epoch 14/20\n",
      "200/200 [==============================] - 2s 10ms/step - loss: 2.0250e-09 - val_loss: 9.8734e-10\n",
      "Epoch 15/20\n",
      "200/200 [==============================] - 1s 7ms/step - loss: 8.0382e-10 - val_loss: 7.4603e-10\n",
      "Epoch 16/20\n",
      "200/200 [==============================] - 1s 5ms/step - loss: 3.2878e-10 - val_loss: 1.4353e-10\n",
      "Epoch 17/20\n",
      "200/200 [==============================] - 1s 6ms/step - loss: 1.2886e-10 - val_loss: 4.4395e-11\n",
      "Epoch 18/20\n",
      "200/200 [==============================] - 1s 5ms/step - loss: 3.4173e-11 - val_loss: 1.3679e-11\n",
      "Epoch 19/20\n",
      "200/200 [==============================] - 1s 6ms/step - loss: 1.0648e-11 - val_loss: 6.3702e-12\n",
      "Epoch 20/20\n",
      "200/200 [==============================] - 2s 8ms/step - loss: 2.5536e-12 - val_loss: 7.7635e-13\n",
      "63/63 [==============================] - 1s 14ms/step - loss: 6.7775e-13\n",
      "Test loss: 6.77746866874912e-13\n"
     ]
    },
    {
     "ename": "",
     "evalue": "",
     "output_type": "error",
     "traceback": [
      "\u001b[1;31mThe Kernel crashed while executing code in the current cell or a previous cell. \n",
      "\u001b[1;31mPlease review the code in the cell(s) to identify a possible cause of the failure. \n",
      "\u001b[1;31mClick <a href='https://aka.ms/vscodeJupyterKernelCrash'>here</a> for more info. \n",
      "\u001b[1;31mView Jupyter <a href='command:jupyter.viewOutput'>log</a> for further details."
     ]
    }
   ],
   "source": [
    "# Compile the model \n",
    "model.compile(optimizer='adam', loss='mean_squared_error')\n",
    "\n",
    "# Train the model\n",
    "model.fit(X_train, y_train, epochs=20, validation_split=0.2)\n",
    "\n",
    "# Evaluate the model\n",
    "loss = model.evaluate(X_test, y_test)\n",
    "print(f'Test loss: {loss}')"
   ]
  }
 ],
 "metadata": {
  "kernelspec": {
   "display_name": "assignment_ineuron",
   "language": "python",
   "name": "python3"
  },
  "language_info": {
   "codemirror_mode": {
    "name": "ipython",
    "version": 3
   },
   "file_extension": ".py",
   "mimetype": "text/x-python",
   "name": "python",
   "nbconvert_exporter": "python",
   "pygments_lexer": "ipython3",
   "version": "3.8.0"
  }
 },
 "nbformat": 4,
 "nbformat_minor": 2
}
